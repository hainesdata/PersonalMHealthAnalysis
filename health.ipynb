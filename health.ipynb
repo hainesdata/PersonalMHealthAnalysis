{
 "cells": [
  {
   "cell_type": "code",
   "execution_count": 59,
   "metadata": {
    "collapsed": true
   },
   "outputs": [
    {
     "data": {
      "text/plain": "         Name  Strength    Taken On  Taken At  Taken\n0      Zoloft      25.0  2020-07-20  09:44:00      1\n1      Zoloft      25.0  2020-07-21  08:47:00      1\n2      Zoloft      25.0  2020-07-22  08:58:00      1\n3      Zoloft      25.0  2020-07-23  08:33:00      1\n4      Zoloft      25.0  2020-07-24  08:50:00      1\n..        ...       ...         ...       ...    ...\n480  Lamictal      50.0  2021-10-22  09:48:00      1\n481    Zoloft      50.0  2021-10-23  10:35:00      1\n482  Lamictal      50.0  2021-10-23  10:35:00      1\n483    Zoloft      50.0  2021-10-24  11:16:00      1\n484  Lamictal      50.0  2021-10-24  11:16:00      1\n\n[485 rows x 5 columns]",
      "text/html": "<div>\n<style scoped>\n    .dataframe tbody tr th:only-of-type {\n        vertical-align: middle;\n    }\n\n    .dataframe tbody tr th {\n        vertical-align: top;\n    }\n\n    .dataframe thead th {\n        text-align: right;\n    }\n</style>\n<table border=\"1\" class=\"dataframe\">\n  <thead>\n    <tr style=\"text-align: right;\">\n      <th></th>\n      <th>Name</th>\n      <th>Strength</th>\n      <th>Taken On</th>\n      <th>Taken At</th>\n      <th>Taken</th>\n    </tr>\n  </thead>\n  <tbody>\n    <tr>\n      <th>0</th>\n      <td>Zoloft</td>\n      <td>25.0</td>\n      <td>2020-07-20</td>\n      <td>09:44:00</td>\n      <td>1</td>\n    </tr>\n    <tr>\n      <th>1</th>\n      <td>Zoloft</td>\n      <td>25.0</td>\n      <td>2020-07-21</td>\n      <td>08:47:00</td>\n      <td>1</td>\n    </tr>\n    <tr>\n      <th>2</th>\n      <td>Zoloft</td>\n      <td>25.0</td>\n      <td>2020-07-22</td>\n      <td>08:58:00</td>\n      <td>1</td>\n    </tr>\n    <tr>\n      <th>3</th>\n      <td>Zoloft</td>\n      <td>25.0</td>\n      <td>2020-07-23</td>\n      <td>08:33:00</td>\n      <td>1</td>\n    </tr>\n    <tr>\n      <th>4</th>\n      <td>Zoloft</td>\n      <td>25.0</td>\n      <td>2020-07-24</td>\n      <td>08:50:00</td>\n      <td>1</td>\n    </tr>\n    <tr>\n      <th>...</th>\n      <td>...</td>\n      <td>...</td>\n      <td>...</td>\n      <td>...</td>\n      <td>...</td>\n    </tr>\n    <tr>\n      <th>480</th>\n      <td>Lamictal</td>\n      <td>50.0</td>\n      <td>2021-10-22</td>\n      <td>09:48:00</td>\n      <td>1</td>\n    </tr>\n    <tr>\n      <th>481</th>\n      <td>Zoloft</td>\n      <td>50.0</td>\n      <td>2021-10-23</td>\n      <td>10:35:00</td>\n      <td>1</td>\n    </tr>\n    <tr>\n      <th>482</th>\n      <td>Lamictal</td>\n      <td>50.0</td>\n      <td>2021-10-23</td>\n      <td>10:35:00</td>\n      <td>1</td>\n    </tr>\n    <tr>\n      <th>483</th>\n      <td>Zoloft</td>\n      <td>50.0</td>\n      <td>2021-10-24</td>\n      <td>11:16:00</td>\n      <td>1</td>\n    </tr>\n    <tr>\n      <th>484</th>\n      <td>Lamictal</td>\n      <td>50.0</td>\n      <td>2021-10-24</td>\n      <td>11:16:00</td>\n      <td>1</td>\n    </tr>\n  </tbody>\n</table>\n<p>485 rows × 5 columns</p>\n</div>"
     },
     "execution_count": 59,
     "metadata": {},
     "output_type": "execute_result"
    }
   ],
   "source": [
    "import pandas as pd\n",
    "from datetime import datetime\n",
    "\n",
    "# Load raw medication data from Round\n",
    "round_raw = pd.read_csv('data/Round Health 2021-10-24-21-47.csv')\n",
    "\n",
    "# Clean round_raw\n",
    "round_wrk = round_raw.copy()\n",
    "# Remove irrelevant columns\n",
    "round_wrk = round_wrk.drop(columns=['Start time', 'End time', 'Quantity', 'Timezone', 'Date'])\n",
    "\n",
    "# Standardize strength values\n",
    "round_wrk.Strength = round_wrk.Strength.replace('Lamotrigine', '', regex=True)\n",
    "round_wrk.Strength = round_wrk.Strength.replace('mg', '', regex=True)\n",
    "round_wrk.Strength = [float(x) for x in round_wrk.Strength]\n",
    "\n",
    "# Convert dates from str to date\n",
    "round_wrk['Taken On'] = [datetime.strptime(x, '%Y-%m-%d').date() if x != '--' else datetime.strptime('0001-01-01', '%Y-%m-%d').date() for x in round_wrk['Taken On']]\n",
    "round_wrk['Taken'] = [0 if x == '--' else 1 for x in round_wrk['Taken At']]\n",
    "round_wrk['Taken At'] = [datetime.strptime(x, '%I:%M %p').time() if x != '--' else datetime.strptime('01:00 AM', '%I:%M %p').time() for x in round_wrk['Taken At']]\n",
    "round_wrk"
   ]
  },
  {
   "cell_type": "code",
   "execution_count": 64,
   "outputs": [
    {
     "data": {
      "text/plain": "     mood                                           emotions        date\n0       4         [chill, stress, excitement, nerves, anger]  2021-01-03\n1       3   [tiredness, love, nerves, chill, optimism, fear]  2021-01-04\n2       3     [joy, emptiness, chill, excitement, tiredness]  2021-01-05\n3       2  [emptiness, tiredness, stress, chill, happines...  2021-01-06\n4       1  [remorse, excitement, tiredness, nerves, stres...  2021-01-07\n..    ...                                                ...         ...\n290     3                                                 []  2021-10-20\n291     2                                                 []  2021-10-21\n292     3                                                 []  2021-10-22\n293     4                                                 []  2021-10-23\n294     4                                                 []  2021-10-24\n\n[295 rows x 3 columns]",
      "text/html": "<div>\n<style scoped>\n    .dataframe tbody tr th:only-of-type {\n        vertical-align: middle;\n    }\n\n    .dataframe tbody tr th {\n        vertical-align: top;\n    }\n\n    .dataframe thead th {\n        text-align: right;\n    }\n</style>\n<table border=\"1\" class=\"dataframe\">\n  <thead>\n    <tr style=\"text-align: right;\">\n      <th></th>\n      <th>mood</th>\n      <th>emotions</th>\n      <th>date</th>\n    </tr>\n  </thead>\n  <tbody>\n    <tr>\n      <th>0</th>\n      <td>4</td>\n      <td>[chill, stress, excitement, nerves, anger]</td>\n      <td>2021-01-03</td>\n    </tr>\n    <tr>\n      <th>1</th>\n      <td>3</td>\n      <td>[tiredness, love, nerves, chill, optimism, fear]</td>\n      <td>2021-01-04</td>\n    </tr>\n    <tr>\n      <th>2</th>\n      <td>3</td>\n      <td>[joy, emptiness, chill, excitement, tiredness]</td>\n      <td>2021-01-05</td>\n    </tr>\n    <tr>\n      <th>3</th>\n      <td>2</td>\n      <td>[emptiness, tiredness, stress, chill, happines...</td>\n      <td>2021-01-06</td>\n    </tr>\n    <tr>\n      <th>4</th>\n      <td>1</td>\n      <td>[remorse, excitement, tiredness, nerves, stres...</td>\n      <td>2021-01-07</td>\n    </tr>\n    <tr>\n      <th>...</th>\n      <td>...</td>\n      <td>...</td>\n      <td>...</td>\n    </tr>\n    <tr>\n      <th>290</th>\n      <td>3</td>\n      <td>[]</td>\n      <td>2021-10-20</td>\n    </tr>\n    <tr>\n      <th>291</th>\n      <td>2</td>\n      <td>[]</td>\n      <td>2021-10-21</td>\n    </tr>\n    <tr>\n      <th>292</th>\n      <td>3</td>\n      <td>[]</td>\n      <td>2021-10-22</td>\n    </tr>\n    <tr>\n      <th>293</th>\n      <td>4</td>\n      <td>[]</td>\n      <td>2021-10-23</td>\n    </tr>\n    <tr>\n      <th>294</th>\n      <td>4</td>\n      <td>[]</td>\n      <td>2021-10-24</td>\n    </tr>\n  </tbody>\n</table>\n<p>295 rows × 3 columns</p>\n</div>"
     },
     "execution_count": 64,
     "metadata": {},
     "output_type": "execute_result"
    }
   ],
   "source": [
    "# Load mood data from Pixels\n",
    "pixels_raw = pd.read_json('data/PixelsExport_2021-10-24.json')\n",
    "\n",
    "# Remove columns\n",
    "pixels_wrk = pixels_raw.copy()\n",
    "pixels_wrk = pixels_wrk.drop(columns=['notes'])\n",
    "pixels_wrk['date'] = [x.date() for x in pixels_wrk.date]\n",
    "pixels_wrk\n",
    "\n"
   ],
   "metadata": {
    "collapsed": false,
    "pycharm": {
     "name": "#%%\n"
    }
   }
  },
  {
   "cell_type": "code",
   "execution_count": null,
   "outputs": [],
   "source": [],
   "metadata": {
    "collapsed": false,
    "pycharm": {
     "name": "#%%\n"
    }
   }
  }
 ],
 "metadata": {
  "kernelspec": {
   "display_name": "Python 3",
   "language": "python",
   "name": "python3"
  },
  "language_info": {
   "codemirror_mode": {
    "name": "ipython",
    "version": 2
   },
   "file_extension": ".py",
   "mimetype": "text/x-python",
   "name": "python",
   "nbconvert_exporter": "python",
   "pygments_lexer": "ipython2",
   "version": "2.7.6"
  }
 },
 "nbformat": 4,
 "nbformat_minor": 0
}